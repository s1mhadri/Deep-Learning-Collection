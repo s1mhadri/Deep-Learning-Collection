{
 "cells": [
  {
   "cell_type": "code",
   "execution_count": 1,
   "id": "93c64d1b-c054-4bcb-86ee-fba9a14aa00a",
   "metadata": {},
   "outputs": [],
   "source": [
    "import numpy as np\n",
    "import pandas as pd\n",
    "import os\n",
    "\n",
    "import torch\n",
    "import torch.nn as nn\n",
    "import torch.nn.functional as F\n",
    "import torch.optim as optim\n",
    "from torchsummary import summary\n",
    "from torch.utils.data import TensorDataset, DataLoader\n",
    "\n",
    "from tqdm import tqdm\n",
    "import matplotlib.pyplot as plt"
   ]
  },
  {
   "cell_type": "code",
   "execution_count": 2,
   "id": "b18c511f-81d9-4649-835f-8fd20f746f8f",
   "metadata": {},
   "outputs": [],
   "source": [
    "data_path = 'synthetic_data.csv'\n",
    "raw_data = pd.read_csv(data_path, header=None)\n",
    "# raw_data.head()"
   ]
  },
  {
   "cell_type": "code",
   "execution_count": 3,
   "id": "c36875be-17aa-45fa-8e6f-de9bffcbadff",
   "metadata": {},
   "outputs": [],
   "source": [
    "d_min, d_max = np.asarray(raw_data.min(1)), np.asarray(raw_data.max(1))\n",
    "norm_data = np.asarray(raw_data)\n",
    "den = (d_max - d_min).reshape(-1, 1)\n",
    "norm_data = (norm_data - d_min.reshape(-1, 1))/den\n",
    "# norm_data = pd.DataFrame(norm_data)\n",
    "# norm_data.head()\n",
    "# type(norm_data)"
   ]
  },
  {
   "cell_type": "code",
   "execution_count": 4,
   "id": "6f8ad0e0-a70c-416d-b5e5-48736957c150",
   "metadata": {},
   "outputs": [],
   "source": [
    "# Parameter initialization\n",
    "\n",
    "gap_time = 10  # gap time between each segment\n",
    "win_size = [10, 30, 60]  # window size of each segment\n",
    "step_max = 5 # maximum step of ConvLSTM\n",
    "\n",
    "train_start_id = 10\n",
    "train_end_id = 800\n",
    "\n",
    "test_start_id = 800\n",
    "test_end_id = 2000\n",
    "\n",
    "valid_start_id = 800\n",
    "valid_end_id = 1000\n",
    "\n",
    "training_iters = 5\n",
    "save_model_step = 1\n",
    "\n",
    "learning_rate = 0.0002\n",
    "\n",
    "threhold = 0.005\n",
    "alpha = 1.5"
   ]
  },
  {
   "cell_type": "code",
   "execution_count": 5,
   "id": "6f719de3-8d29-40c4-bc72-beefba046eff",
   "metadata": {},
   "outputs": [
    {
     "name": "stdout",
     "output_type": "stream",
     "text": [
      "series_number is 30\n",
      "series_length is 20000\n",
      "signature_matrices_number is 2000\n"
     ]
    }
   ],
   "source": [
    "series_num = norm_data.shape[0]\n",
    "series_len = norm_data.shape[1]\n",
    "signature_matrices_num = series_len // gap_time\n",
    "\n",
    "print(\"series_number is\", series_num)\n",
    "print(\"series_length is\", series_len)\n",
    "print(\"signature_matrices_number is\", signature_matrices_num)"
   ]
  },
  {
   "cell_type": "code",
   "execution_count": 6,
   "id": "c4e89c8c-a01e-474b-9e17-ebe95b45e2d4",
   "metadata": {},
   "outputs": [],
   "source": [
    "def signature_matrices_generation(win, data, signature_matrices_num, series_num, series_len, gap_time, series_start=0):\n",
    "    if win == 0:\n",
    "        print(\"The size of win cannot be 0\")\n",
    "\n",
    "    data = np.asarray(data)\n",
    "    signature_matrices = np.zeros((signature_matrices_num, series_num, series_num))\n",
    "\n",
    "    for t in range(series_start, series_len-win, gap_time):\n",
    "        if t >= 0 * gap_time:\n",
    "            data_t = data[:, t:t+win]\n",
    "            signature_matrices[t//gap_time] = np.dot(data_t, data_t.T) / win\n",
    "\n",
    "    return signature_matrices"
   ]
  },
  {
   "cell_type": "code",
   "execution_count": 7,
   "id": "d4ab4c4a-df96-4d3d-bb39-209495e48cca",
   "metadata": {},
   "outputs": [
    {
     "name": "stdout",
     "output_type": "stream",
     "text": [
      "the shape of signature_matrices is (3, 2000, 30, 30)\n"
     ]
    }
   ],
   "source": [
    "signature_matrices = []\n",
    "for win in win_size:\n",
    "    signature_matrices.append(signature_matrices_generation(win, norm_data, signature_matrices_num, series_num, series_len, gap_time))\n",
    "\n",
    "signature_matrices = np.asarray(signature_matrices)\n",
    "print(\"the shape of signature_matrices is\", signature_matrices.shape)"
   ]
  },
  {
   "cell_type": "code",
   "execution_count": 8,
   "id": "23836e39-49a7-4870-9304-9f11c3526623",
   "metadata": {},
   "outputs": [],
   "source": [
    "device = torch.device(\"cuda\" if torch.cuda.is_available() else \"cpu\")\n",
    "\n",
    "IN_CHANNELS = 3\n",
    "LEARNING_RATE = 0.001\n",
    "BATCH_SIZE = 32\n",
    "N_EPOCHS = 10"
   ]
  },
  {
   "cell_type": "code",
   "execution_count": 9,
   "id": "f79eac53-8321-4639-aa7d-a42f98141c23",
   "metadata": {},
   "outputs": [
    {
     "name": "stdout",
     "output_type": "stream",
     "text": [
      "train = (1600, 3, 30, 30) test = (400, 3, 30, 30)\n"
     ]
    }
   ],
   "source": [
    "sig_mat_reshaped = np.reshape(signature_matrices, (-1, 3, 30, 30))\n",
    "train_size = int(len(sig_mat_reshaped)*0.8)\n",
    "test_size = len(sig_mat_reshaped) - train_size\n",
    "train, test = sig_mat_reshaped[:train_size, ...], sig_mat_reshaped[train_size:, ...]\n",
    "print(f'train = {train.shape} test = {test.shape}')"
   ]
  },
  {
   "cell_type": "code",
   "execution_count": 10,
   "id": "323bb15a-8163-4243-aee9-00275371fea1",
   "metadata": {},
   "outputs": [],
   "source": [
    "train_x = torch.tensor(train)\n",
    "train_y = train_x\n",
    "train_dataset = TensorDataset(train_x, train_y)\n",
    "train_loader = DataLoader(dataset=train_dataset, batch_size=BATCH_SIZE, shuffle=True)\n",
    "\n",
    "test_x = torch.tensor(test)\n",
    "test_y = test_x\n",
    "test_dataset = TensorDataset(test_x, test_y)\n",
    "test_loader = DataLoader(dataset=test_dataset, batch_size=BATCH_SIZE, shuffle=True)\n",
    "\n",
    "# x2, y2 = next(iter(train_loader))\n",
    "# x2.shape"
   ]
  },
  {
   "cell_type": "code",
   "execution_count": 11,
   "id": "c51e63bd-9743-4e85-997e-a78de719ac1f",
   "metadata": {},
   "outputs": [],
   "source": [
    "class AutoencoderCNN(nn.Module):\n",
    "    def __init__(self, in_channels=3):\n",
    "        super(AutoencoderCNN, self).__init__()\n",
    "        self.encoder = nn.Sequential(\n",
    "            nn.Conv2d(in_channels, 32, 3, padding=1),\n",
    "            nn.ReLU(),\n",
    "            nn.MaxPool2d(2),\n",
    "            nn.Conv2d(32, 32, 3, padding=1),\n",
    "            nn.ReLU(),\n",
    "            nn.Conv2d(32, 32, 3, padding=1),\n",
    "            nn.ReLU(),\n",
    "        )\n",
    "        self.decoder = nn.Sequential(\n",
    "            nn.Conv2d(32, 32, 3, padding=1),\n",
    "            nn.ReLU(),\n",
    "            nn.Upsample(scale_factor=2),\n",
    "            nn.Conv2d(32, 32, 3, padding=1),\n",
    "            nn.ReLU(),\n",
    "            nn.Conv2d(32, 32, 3, padding=1),\n",
    "            nn.ReLU(),\n",
    "            nn.Conv2d(32, 3, 3, padding=1),\n",
    "            nn.Sigmoid()\n",
    "        )\n",
    "\n",
    "    def forward(self, x):\n",
    "        encoded = self.encoder(x)\n",
    "        decoded = self.decoder(encoded)\n",
    "        return decoded"
   ]
  },
  {
   "cell_type": "code",
   "execution_count": 12,
   "id": "44746ac9-0d5e-4d43-b9b2-32cebcc96911",
   "metadata": {},
   "outputs": [],
   "source": [
    "# Initialize network\n",
    "model = AutoencoderCNN(in_channels=IN_CHANNELS).to(device)\n",
    "\n",
    "# Loss and optimizer\n",
    "criterion = nn.MSELoss()\n",
    "optimizer = optim.Adam(model.parameters(), lr=LEARNING_RATE)\n",
    "\n",
    "# inputsize = (3, 30, 30)\n",
    "# print(summary(model, inputsize))"
   ]
  },
  {
   "cell_type": "code",
   "execution_count": 13,
   "id": "a356cf81-9f0a-40cb-9fc5-4cd27cf76405",
   "metadata": {},
   "outputs": [],
   "source": [
    "# training loop\n",
    "def train(model, optimizer, criterion, epochs, train_loader, val_loader):\n",
    "    for epoch in range(epochs):\n",
    "        losses = []\n",
    "\n",
    "        for batch_idx, (data, targets) in enumerate(tqdm(train_loader)):\n",
    "            # Get data to cuda if possible\n",
    "            data = data.to(device=device).float()\n",
    "            targets = targets.to(device=device).float()\n",
    "\n",
    "            # forward\n",
    "            scores = model(data)\n",
    "            loss = criterion(scores, targets)\n",
    "\n",
    "            losses.append(loss.item())\n",
    "\n",
    "            # backward\n",
    "            optimizer.zero_grad()\n",
    "            loss.backward()\n",
    "\n",
    "            # gradient descent\n",
    "            optimizer.step()\n",
    "        \n",
    "        print(f\"Cost at epoch {epoch} is {sum(losses)/len(losses)}\")\n",
    "\n",
    "    return losses"
   ]
  },
  {
   "cell_type": "code",
   "execution_count": 14,
   "id": "5ad6926d-0b71-4ae9-a2e6-98b77159cd2c",
   "metadata": {},
   "outputs": [
    {
     "name": "stderr",
     "output_type": "stream",
     "text": [
      "100%|██████████████████████████████████████████████████████████████████████████████████| 50/50 [00:14<00:00,  3.55it/s]\n"
     ]
    },
    {
     "name": "stdout",
     "output_type": "stream",
     "text": [
      "Cost at epoch 0 is 0.03400294456630945\n"
     ]
    },
    {
     "name": "stderr",
     "output_type": "stream",
     "text": [
      "100%|██████████████████████████████████████████████████████████████████████████████████| 50/50 [00:01<00:00, 49.64it/s]\n"
     ]
    },
    {
     "name": "stdout",
     "output_type": "stream",
     "text": [
      "Cost at epoch 1 is 0.014349260553717613\n"
     ]
    },
    {
     "name": "stderr",
     "output_type": "stream",
     "text": [
      "100%|██████████████████████████████████████████████████████████████████████████████████| 50/50 [00:00<00:00, 50.12it/s]\n"
     ]
    },
    {
     "name": "stdout",
     "output_type": "stream",
     "text": [
      "Cost at epoch 2 is 0.010729665607213975\n"
     ]
    },
    {
     "name": "stderr",
     "output_type": "stream",
     "text": [
      "100%|██████████████████████████████████████████████████████████████████████████████████| 50/50 [00:01<00:00, 49.73it/s]\n"
     ]
    },
    {
     "name": "stdout",
     "output_type": "stream",
     "text": [
      "Cost at epoch 3 is 0.008156295893713831\n"
     ]
    },
    {
     "name": "stderr",
     "output_type": "stream",
     "text": [
      "100%|██████████████████████████████████████████████████████████████████████████████████| 50/50 [00:01<00:00, 49.83it/s]\n"
     ]
    },
    {
     "name": "stdout",
     "output_type": "stream",
     "text": [
      "Cost at epoch 4 is 0.005868473146110773\n"
     ]
    },
    {
     "name": "stderr",
     "output_type": "stream",
     "text": [
      "100%|██████████████████████████████████████████████████████████████████████████████████| 50/50 [00:01<00:00, 49.75it/s]\n"
     ]
    },
    {
     "name": "stdout",
     "output_type": "stream",
     "text": [
      "Cost at epoch 5 is 0.003993253749795258\n"
     ]
    },
    {
     "name": "stderr",
     "output_type": "stream",
     "text": [
      "100%|██████████████████████████████████████████████████████████████████████████████████| 50/50 [00:01<00:00, 49.84it/s]\n"
     ]
    },
    {
     "name": "stdout",
     "output_type": "stream",
     "text": [
      "Cost at epoch 6 is 0.002955540637485683\n"
     ]
    },
    {
     "name": "stderr",
     "output_type": "stream",
     "text": [
      "100%|██████████████████████████████████████████████████████████████████████████████████| 50/50 [00:01<00:00, 49.79it/s]\n"
     ]
    },
    {
     "name": "stdout",
     "output_type": "stream",
     "text": [
      "Cost at epoch 7 is 0.002439528680406511\n"
     ]
    },
    {
     "name": "stderr",
     "output_type": "stream",
     "text": [
      "100%|██████████████████████████████████████████████████████████████████████████████████| 50/50 [00:01<00:00, 48.96it/s]\n"
     ]
    },
    {
     "name": "stdout",
     "output_type": "stream",
     "text": [
      "Cost at epoch 8 is 0.0020887236669659614\n"
     ]
    },
    {
     "name": "stderr",
     "output_type": "stream",
     "text": [
      "100%|██████████████████████████████████████████████████████████████████████████████████| 50/50 [00:00<00:00, 50.03it/s]"
     ]
    },
    {
     "name": "stdout",
     "output_type": "stream",
     "text": [
      "Cost at epoch 9 is 0.001813859899993986\n"
     ]
    },
    {
     "name": "stderr",
     "output_type": "stream",
     "text": [
      "\n"
     ]
    }
   ],
   "source": [
    "losses = train(model, optimizer, criterion, N_EPOCHS, train_loader, test_loader)"
   ]
  },
  {
   "cell_type": "code",
   "execution_count": 21,
   "id": "da4578cd-bec8-4af9-8a89-86b30661d00d",
   "metadata": {},
   "outputs": [],
   "source": [
    "testcase = sig_mat_reshaped[400, ...].reshape((1, 3, 30, 30))\n",
    "# print(testcase.shape)\n",
    "\n",
    "testcase = torch.tensor(testcase).to(device=device).float()\n",
    "reconstructcase = model(testcase)\n",
    "# print(reconstructcase.shape)\n",
    "\n",
    "testcase = testcase.reshape((30, 30, 3)).cpu().detach().numpy()\n",
    "reconstructcase = reconstructcase.reshape((30, 30, 3)).cpu().detach().numpy()\n",
    "\n",
    "diff = np.absolute(reconstructcase[..., 0] - testcase[..., 0])"
   ]
  },
  {
   "cell_type": "code",
   "execution_count": 22,
   "id": "a0d4231c-360d-4b48-9888-1e9c957ce506",
   "metadata": {},
   "outputs": [
    {
     "data": {
      "text/plain": [
       "<matplotlib.image.AxesImage at 0x1d18f655be0>"
      ]
     },
     "execution_count": 22,
     "metadata": {},
     "output_type": "execute_result"
    },
    {
     "data": {
      "image/png": "[encoded data removed]",
      "text/plain": [
       "<Figure size 1080x720 with 3 Axes>"
      ]
     },
     "metadata": {
      "needs_background": "light"
     },
     "output_type": "display_data"
    }
   ],
   "source": [
    "f, axes = plt.subplots(1,3, figsize=(15,10))\n",
    "axes[0].imshow(testcase)\n",
    "axes[1].imshow(reconstructcase)\n",
    "axes[2].imshow(diff)"
   ]
  },
  {
   "cell_type": "code",
   "execution_count": null,
   "id": "650caff9-6e1d-49e7-8c09-611fe0fb3962",
   "metadata": {},
   "outputs": [],
   "source": []
  }
 ],
 "metadata": {
  "kernelspec": {
   "display_name": "Python 3",
   "language": "python",
   "name": "python3"
  },
  "language_info": {
   "codemirror_mode": {
    "name": "ipython",
    "version": 3
   },
   "file_extension": ".py",
   "mimetype": "text/x-python",
   "name": "python",
   "nbconvert_exporter": "python",
   "pygments_lexer": "ipython3",
   "version": "3.9.2"
  }
 },
 "nbformat": 4,
 "nbformat_minor": 5
}
